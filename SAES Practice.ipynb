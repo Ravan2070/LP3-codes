{
 "cells": [
  {
   "cell_type": "code",
   "execution_count": 139,
   "id": "df419c15",
   "metadata": {},
   "outputs": [],
   "source": [
    "import sys\n",
    "\n",
    "#round Constants\n",
    "rCon1 = 0b10000000\n",
    "rCon2 = 0b00110000\n",
    " \n",
    "# S-Box\n",
    "sBox  = [0x9, 0x4, 0xa, 0xb, 0xd, 0x1, 0x8, 0x5,\n",
    "\t\t 0x6, 0x2, 0x0, 0x3, 0xc, 0xe, 0xf, 0x7]\n",
    " \n",
    "# Inverse S-Box\n",
    "sBoxI = [0xa, 0x5, 0x9, 0xb, 0x1, 0x7, 0x8, 0xf,\n",
    "\t\t 0x6, 0x0, 0x2, 0x3, 0xc, 0x4, 0xd, 0xe]\n",
    " \n",
    "# Round keys: K0 = w0 + w1; K1 = w2 + w3; K2 = w4 + w5\n",
    "w = [None] * 6\n",
    "\n",
    "keys = [None] * 3"
   ]
  },
  {
   "cell_type": "code",
   "execution_count": 140,
   "id": "39330316",
   "metadata": {},
   "outputs": [],
   "source": [
    "#w will be 8 bits long\n",
    "def rotate_word(w):\n",
    "    return (((w & 0x0f) << 4) + ((w & 0xf0) >> 4))"
   ]
  },
  {
   "cell_type": "code",
   "execution_count": 141,
   "id": "6b76cfea",
   "metadata": {},
   "outputs": [],
   "source": [
    "#w will be 8 bits long\n",
    "def sub_nib(w):\n",
    "    return (sBox[(w & 0xf0) >> 4] << 4) + sBox[(w & 0x0f)]"
   ]
  },
  {
   "cell_type": "code",
   "execution_count": 142,
   "id": "9ab4f864",
   "metadata": {},
   "outputs": [],
   "source": [
    "def key_generation(key):\n",
    "    w[0] = (key & 0xff00) >> 8\n",
    "    w[1] = (key & 0x00ff)\n",
    "    \n",
    "    keys[0] = (w[0] << 8) + w[1]\n",
    "    \n",
    "    w[2] = w[0] ^ rCon1 ^ sub_nib(rotate_word(w[1])) \n",
    "    w[3] = w[1] ^ w[2]\n",
    "    \n",
    "    keys[1] = (w[2] << 8) + w[3]\n",
    "    \n",
    "    w[4] = w[2] ^ rCon2 ^ sub_nib(rotate_word(w[3])) \n",
    "    w[5] = w[3] ^ w[4]\n",
    "    \n",
    "    keys[2] = (w[4] << 8) + w[5]\n",
    "    \n",
    "    print(keys)"
   ]
  },
  {
   "cell_type": "code",
   "execution_count": 143,
   "id": "58097832",
   "metadata": {},
   "outputs": [],
   "source": [
    "#n is 16 bit\n",
    "\n",
    "#0010 1110 1010 1111\n",
    "# 0010 1010\n",
    "# 1110 1111\n",
    "def plain_to_state_array(n):\n",
    "    return [n >> 12, ( n >> 4) & 0x000f , ( n >> 8) & 0x000f ,  n & 0x000f]\n",
    "\n",
    "def state_array_to_plain(m):\n",
    "    return (m[0] << 12) + (m[2] << 8) + (m[1] << 4) + m[3]"
   ]
  },
  {
   "cell_type": "code",
   "execution_count": 144,
   "id": "f3505356",
   "metadata": {},
   "outputs": [],
   "source": [
    "def add_round_key(state,key):\n",
    "    return [i^j  for i,j in zip(state,key)]"
   ]
  },
  {
   "cell_type": "code",
   "execution_count": 145,
   "id": "15ceaa55",
   "metadata": {},
   "outputs": [],
   "source": [
    "def nibble_sub(state):\n",
    "    return [sBox[i] for i in state]\n",
    "\n",
    "def inv_nibble_sub(state):\n",
    "    return [sBoxI[i] for i in state]"
   ]
  },
  {
   "cell_type": "code",
   "execution_count": 146,
   "id": "69554d08",
   "metadata": {},
   "outputs": [],
   "source": [
    "#shift_rows and inv_shift_rows are same\n",
    "def shift_rows(state):\n",
    "    return [state[0], state[1], state[3], state[2]]"
   ]
  },
  {
   "cell_type": "code",
   "execution_count": 147,
   "id": "5ef842eb",
   "metadata": {},
   "outputs": [],
   "source": [
    "def mult(p1, p2):\n",
    "    #Multiply two polynomials in (GF)(2^4)/x^4 + x + 1\n",
    "    p = 0\n",
    "    while p2:\n",
    "        if p2 & 0b1:\n",
    "            p ^= p1\n",
    "        p1 <<= 1\n",
    "        if p1 & 0b10000:\n",
    "            p1 ^= 0b11\n",
    "        p2 >>= 1\n",
    "    return p & 0b1111\n",
    "\n",
    "def mix_columns(s):\n",
    "    return [s[0] ^ mult(4, s[2]), s[1] ^ mult(4, s[3]),\n",
    "    s[2] ^ mult(4, s[0]), s[3] ^ mult(4, s[1])] \n",
    "\n",
    "def inv_mix_columns(s):\n",
    "    return [mult(9, s[0]) ^ mult(2, s[2]), mult(9, s[1]) ^ mult(2, s[3]),\n",
    "        mult(9, s[2]) ^ mult(2, s[0]), mult(9, s[3]) ^ mult(2, s[1])]"
   ]
  },
  {
   "cell_type": "code",
   "execution_count": 148,
   "id": "07eb308b",
   "metadata": {},
   "outputs": [],
   "source": [
    "def encrpyt(pt):\n",
    "    state = plain_to_state_array(pt) \n",
    "    state = add_round_key(state,plain_to_state_array(keys[0]))\n",
    "    \n",
    "    #round 1\n",
    "    state = nibble_sub(state)\n",
    "    state = shift_rows(state)\n",
    "    state = mix_columns(state)\n",
    "    state = add_round_key(state,plain_to_state_array(keys[1]))\n",
    "    \n",
    "    #round 2\n",
    "    state = nibble_sub(state)\n",
    "    state = shift_rows(state)\n",
    "    state = add_round_key(state,plain_to_state_array(keys[2]))\n",
    "    \n",
    "    return state_array_to_plain(state)\n",
    "    "
   ]
  },
  {
   "cell_type": "code",
   "execution_count": 154,
   "id": "6c174cc8",
   "metadata": {},
   "outputs": [],
   "source": [
    "def decrpyt(pt):\n",
    "    state = plain_to_state_array(pt) \n",
    "    state = add_round_key(state,plain_to_state_array(keys[2]))\n",
    "    \n",
    "    #round 1\n",
    "    state = shift_rows(state)\n",
    "    state = inv_nibble_sub(state)\n",
    "    state = add_round_key(state,plain_to_state_array(keys[1]))\n",
    "    state = inv_mix_columns(state)\n",
    "    \n",
    "    \n",
    "    #round 2\n",
    "    state = shift_rows(state)\n",
    "    state = inv_nibble_sub(state)\n",
    "    state = add_round_key(state,plain_to_state_array(keys[0]))\n",
    "    \n",
    "    return state_array_to_plain(state)"
   ]
  },
  {
   "cell_type": "code",
   "execution_count": 155,
   "id": "8d8a37d9",
   "metadata": {},
   "outputs": [
    {
     "name": "stdout",
     "output_type": "stream",
     "text": [
      "Enter plaintext (Numeric value < 65536): 35\n",
      "Enter key (Numeric value): 34\n",
      "[34, 10760, 29563]\n",
      "Cipher:  6215\n",
      "Plain:  35\n"
     ]
    }
   ],
   "source": [
    "plain_text = int(input(\"Enter plaintext (Numeric value < 65536): \"))\n",
    "key = int(input(\"Enter key (Numeric value): \"))\n",
    "key_generation(key)\n",
    "cipher_text = encrpyt(plain_text)\n",
    "print(\"Cipher: \",cipher_text)\n",
    "print(\"Plain: \",decrpyt(cipher_text))"
   ]
  }
 ],
 "metadata": {
  "kernelspec": {
   "display_name": "Python 3 (ipykernel)",
   "language": "python",
   "name": "python3"
  },
  "language_info": {
   "codemirror_mode": {
    "name": "ipython",
    "version": 3
   },
   "file_extension": ".py",
   "mimetype": "text/x-python",
   "name": "python",
   "nbconvert_exporter": "python",
   "pygments_lexer": "ipython3",
   "version": "3.9.7"
  }
 },
 "nbformat": 4,
 "nbformat_minor": 5
}
