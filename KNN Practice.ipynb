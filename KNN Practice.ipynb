{
 "cells": [
  {
   "cell_type": "markdown",
   "id": "6c7061a7",
   "metadata": {},
   "source": [
    "# KNN"
   ]
  },
  {
   "cell_type": "code",
   "execution_count": 24,
   "id": "f9a99721",
   "metadata": {},
   "outputs": [],
   "source": [
    "#import required libraries\n",
    "import numpy as np #used for support related to large, multi-dimensional arrays and matrices"
   ]
  },
  {
   "cell_type": "code",
   "execution_count": 26,
   "id": "c5a6dfe2",
   "metadata": {},
   "outputs": [],
   "source": [
    "class KNN:\n",
    "    def __init__(self,k):\n",
    "        self.k = k\n",
    "    \n",
    "    def fit(self,X,Y):\n",
    "        self.X = X\n",
    "        self.Y = Y\n",
    "        \n",
    "    def euclidean_distance(self,x,y):\n",
    "        return (x[0]-y[0])**2 + (x[1]-y[1])**2\n",
    "    \n",
    "    def calculate_all_distances(self,X):\n",
    "        self.distances = []\n",
    "        for i in range(0,len(self.X)):\n",
    "            self.distances.append((self.euclidean_distance(X, self.X[i]),self.Y[i]))\n",
    "            \n",
    "        self.distances.sort()\n",
    "        self.distances = self.distances[0:self.k]\n",
    "    \n",
    "    def predict(self,X):\n",
    "        self.calculate_all_distances(X)\n",
    "        \n",
    "        counts = {}\n",
    "        for d in self.distances:\n",
    "            try: counts[d[1]] += 1\n",
    "            except: counts[d[1]] = 1\n",
    "        \n",
    "        return max(counts, key = lambda i : counts[i])\n",
    "    \n",
    "    def predict_distance_weighted(self,X):\n",
    "        self.calculate_all_distances(X)\n",
    "        \n",
    "        counts = {}\n",
    "        for d in self.distances:\n",
    "            try: counts[d[1]] += 1/d[0]\n",
    "            except: counts[d[1]] = 1/d[0]\n",
    "        \n",
    "        return max(counts, key = lambda i : counts[i])\n",
    "    \n",
    "    def predict_locally_weighted(self,X):\n",
    "        self.calculate_all_distances(X)\n",
    "        \n",
    "        counts = {}\n",
    "        for d in self.distances:\n",
    "            try: counts[d[1]].append(1/d[0])\n",
    "            except: counts[d[1]] = [1/d[0]]\n",
    "        \n",
    "        for c in counts:\n",
    "            counts[c] = np.mean(counts[c])\n",
    "        \n",
    "        return max(counts, key = lambda i : counts[i])"
   ]
  },
  {
   "cell_type": "code",
   "execution_count": 27,
   "id": "62c56584",
   "metadata": {},
   "outputs": [],
   "source": [
    "#dataset\n",
    "X = [(2, 4), (4, 2), (4, 4), (4, 6), (6, 2), (6, 4)]\n",
    "Y = ['Y', 'Y', 'B', 'Y', 'B', 'Y']"
   ]
  },
  {
   "cell_type": "code",
   "execution_count": 28,
   "id": "2111450c",
   "metadata": {},
   "outputs": [
    {
     "name": "stdout",
     "output_type": "stream",
     "text": [
      "Standard KNN: Y\n",
      "Distance Weighted KNN: Y\n",
      "Locally Weighted KNN: Y\n"
     ]
    }
   ],
   "source": [
    "model = KNN(3)\n",
    "model.fit(X,Y)\n",
    "\n",
    "#use  standard KNN for classification \n",
    "print(f'Standard KNN: {model.predict((6,6))}')\n",
    "\n",
    "#use distance weighted KNN for classification\n",
    "print(f'Distance Weighted KNN: {model.predict_distance_weighted((6,6))}')\n",
    "\n",
    "#use locally weighted KNN for classification\n",
    "print(f'Locally Weighted KNN: {model.predict_locally_weighted((6,6))}')"
   ]
  },
  {
   "cell_type": "code",
   "execution_count": null,
   "id": "7f5a4347",
   "metadata": {},
   "outputs": [],
   "source": []
  }
 ],
 "metadata": {
  "kernelspec": {
   "display_name": "Python 3 (ipykernel)",
   "language": "python",
   "name": "python3"
  },
  "language_info": {
   "codemirror_mode": {
    "name": "ipython",
    "version": 3
   },
   "file_extension": ".py",
   "mimetype": "text/x-python",
   "name": "python",
   "nbconvert_exporter": "python",
   "pygments_lexer": "ipython3",
   "version": "3.9.7"
  }
 },
 "nbformat": 4,
 "nbformat_minor": 5
}
