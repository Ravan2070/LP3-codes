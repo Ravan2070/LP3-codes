{
 "cells": [
  {
   "cell_type": "code",
   "execution_count": 19,
   "id": "7a153790",
   "metadata": {},
   "outputs": [],
   "source": [
    "import math\n",
    "import random"
   ]
  },
  {
   "cell_type": "code",
   "execution_count": 20,
   "id": "f9620ecd",
   "metadata": {},
   "outputs": [],
   "source": [
    "def generate(g,n):\n",
    "    \n",
    "    print(\"Generator: \",g)\n",
    "    print(\"Modulus: \",n)\n",
    "    a = random.randint(2,1000)\n",
    "    b = random.randint(2,1000)\n",
    "    \n",
    "    print(\"Numbers choosed\",a,b)\n",
    "    A = pow(g,a)%n\n",
    "    B = pow(g,b)%n\n",
    "    \n",
    "    print(\"Shared keys: \",A,B)\n",
    "    \n",
    "    A = pow(B,a)%n\n",
    "    B = pow(A,b)%n\n",
    "    \n",
    "    print(\"Private keys: \",A,B)"
   ]
  },
  {
   "cell_type": "code",
   "execution_count": 21,
   "id": "7baaa32d",
   "metadata": {},
   "outputs": [
    {
     "name": "stdout",
     "output_type": "stream",
     "text": [
      "Generator:  7\n",
      "Modulus:  17\n",
      "Numbers choosed 744 243\n",
      "Shared keys:  16 3\n",
      "Private keys:  16 16\n"
     ]
    }
   ],
   "source": [
    "generate(7,17)"
   ]
  }
 ],
 "metadata": {
  "kernelspec": {
   "display_name": "Python 3 (ipykernel)",
   "language": "python",
   "name": "python3"
  },
  "language_info": {
   "codemirror_mode": {
    "name": "ipython",
    "version": 3
   },
   "file_extension": ".py",
   "mimetype": "text/x-python",
   "name": "python",
   "nbconvert_exporter": "python",
   "pygments_lexer": "ipython3",
   "version": "3.9.7"
  }
 },
 "nbformat": 4,
 "nbformat_minor": 5
}
