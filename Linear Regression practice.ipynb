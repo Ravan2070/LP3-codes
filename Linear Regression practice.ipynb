{
 "cells": [
  {
   "cell_type": "markdown",
   "id": "9c92f0e7",
   "metadata": {},
   "source": [
    "# Linear Regression"
   ]
  },
  {
   "cell_type": "code",
   "execution_count": 14,
   "id": "9ef5f4ea",
   "metadata": {},
   "outputs": [],
   "source": [
    "#import required libraries\n",
    "import numpy as np #used for support related to large, multi-dimensional arrays and matrices\n",
    "import matplotlib.pyplot as plt #a plotting library\n",
    "import seaborn as sns #a data visualization library"
   ]
  },
  {
   "cell_type": "code",
   "execution_count": 15,
   "id": "9a7ff62f",
   "metadata": {},
   "outputs": [],
   "source": [
    "data = [(10,95), (9,80), (2,10), (15,50), (10,45), (16,98), (11,38), (16,93)] #dataset representing tuples of (Number of hours spent driving,Risk score on a scale 0-100)"
   ]
  },
  {
   "cell_type": "code",
   "execution_count": 16,
   "id": "112af055",
   "metadata": {},
   "outputs": [
    {
     "data": {
      "text/plain": [
       "<AxesSubplot:>"
      ]
     },
     "execution_count": 16,
     "metadata": {},
     "output_type": "execute_result"
    },
    {
     "data": {
      "image/png": "[encoded data removed]",
      "text/plain": [
       "<Figure size 432x288 with 1 Axes>"
      ]
     },
     "metadata": {
      "needs_background": "light"
     },
     "output_type": "display_data"
    }
   ],
   "source": [
    "x = [pt[0] for pt in data]\n",
    "y = [pt[1] for pt in data]\n",
    "\n",
    "#Original plot\n",
    "sns.scatterplot(x = x, y = y, s = 100) #to draw a scatter plot"
   ]
  },
  {
   "cell_type": "code",
   "execution_count": 17,
   "id": "42624684",
   "metadata": {},
   "outputs": [
    {
     "name": "stdout",
     "output_type": "stream",
     "text": [
      "Linear Regression Equation y = 4.59*x + 12.58 \n"
     ]
    }
   ],
   "source": [
    "n = len(x)\n",
    "xx = [ele * ele for ele in x]\n",
    "xy = [x[i] * y[i] for i in range(0,n)] \n",
    "\n",
    "#Linear Regression Parameter Generation\n",
    "\n",
    "sum_x = np.sum(x) #Sum of array elements over a given axis.\n",
    "sum_y = np.sum(y) \n",
    "sum_xx = np.sum(xx)\n",
    "sum_xy = np.sum(xy)\n",
    "\n",
    "# y = mx + b\n",
    "m = (n * sum_xy - sum_x * sum_y) / (n * sum_xx - sum_x * sum_x)\n",
    "\n",
    "b = (sum_y - m * sum_x) / n\n",
    "\n",
    "print(f'Linear Regression Equation y = {round(m,2)}*x + {round(b,2)} ')"
   ]
  },
  {
   "cell_type": "code",
   "execution_count": 19,
   "id": "7dc166e0",
   "metadata": {},
   "outputs": [
    {
     "data": {
      "image/png": "[encoded data removed]",
      "text/plain": [
       "<Figure size 432x288 with 1 Axes>"
      ]
     },
     "metadata": {
      "needs_background": "light"
     },
     "output_type": "display_data"
    }
   ],
   "source": [
    "#Plotting with best fit line\n",
    "\n",
    "def plot_graph(x , y, slope, intercept):\n",
    "    axes = sns.scatterplot(x = x, y = y, s = 100)\n",
    "    x_vals = np.array(axes.get_xlim()) #creates an array #returns the x-axis view limits\n",
    "    y_vals = slope * x_vals + intercept\n",
    "    plt.plot(x_vals, y_vals, '-', color=\"red\")\n",
    "    \n",
    "plot_graph(x, y, m, b)"
   ]
  },
  {
   "cell_type": "code",
   "execution_count": null,
   "id": "fd8a8056",
   "metadata": {},
   "outputs": [],
   "source": []
  }
 ],
 "metadata": {
  "kernelspec": {
   "display_name": "Python 3 (ipykernel)",
   "language": "python",
   "name": "python3"
  },
  "language_info": {
   "codemirror_mode": {
    "name": "ipython",
    "version": 3
   },
   "file_extension": ".py",
   "mimetype": "text/x-python",
   "name": "python",
   "nbconvert_exporter": "python",
   "pygments_lexer": "ipython3",
   "version": "3.9.7"
  }
 },
 "nbformat": 4,
 "nbformat_minor": 5
}
