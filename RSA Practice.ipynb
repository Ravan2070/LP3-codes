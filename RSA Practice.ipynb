{
 "cells": [
  {
   "cell_type": "code",
   "execution_count": 6,
   "id": "69251058",
   "metadata": {},
   "outputs": [],
   "source": [
    "import random\n",
    "import ast\n",
    "import math"
   ]
  },
  {
   "cell_type": "code",
   "execution_count": 7,
   "id": "25b07b57",
   "metadata": {},
   "outputs": [],
   "source": [
    "def isPrime(n):\n",
    "    for i in range(2,int(n**0.5)+1):\n",
    "        if n%i == 0:\n",
    "            return False\n",
    "    \n",
    "    return True"
   ]
  },
  {
   "cell_type": "code",
   "execution_count": 8,
   "id": "11aac78c",
   "metadata": {},
   "outputs": [],
   "source": [
    "def generate_primes():\n",
    "    primes = []\n",
    "    for i in range(0,999):\n",
    "        if isPrime(i):\n",
    "          primes.append(i)\n",
    "    \n",
    "    return random.choices(primes, k=2)"
   ]
  },
  {
   "cell_type": "code",
   "execution_count": 9,
   "id": "6d62b14b",
   "metadata": {},
   "outputs": [],
   "source": [
    "class RSA:\n",
    "    \n",
    "    def __init__(self,p,q): \n",
    "        self.P = p\n",
    "        self.Q = q\n",
    "        self.N = p*q\n",
    "        self.phi = (p-1)*(q-1)\n",
    "        self.generate_public_key()\n",
    "        self.generate_private_key()\n",
    "        print(\"E \",self.E)\n",
    "        print(\"D \",self.D)\n",
    "    \n",
    "    def generate_public_key(self):\n",
    "        for i in range(2,self.phi):\n",
    "            if math.gcd(self.phi,i) == 1:\n",
    "                self.E = i\n",
    "                return\n",
    "        \n",
    "        self.E = None\n",
    "        \n",
    "   \n",
    "    def generate_private_key(self):\n",
    "        for i in range(1,self.phi):\n",
    "            if (int(i*self.phi + 1)) % self.E == 0:\n",
    "                self.D = int(i*self.phi + 1) // self.E\n",
    "                return\n",
    "        \n",
    "        self.D = None\n",
    "        \n",
    "    def encrypt(self,plain):\n",
    "        pt = []\n",
    "        ct = []\n",
    "        for i in text:\n",
    "            pt.append(ord(i))\n",
    "            \n",
    "        for i in pt:\n",
    "            ct.append(int(i**self.E)%self.N)\n",
    "        \n",
    "        return ct\n",
    "    \n",
    "    def decrypt(self,cipher):\n",
    "        pt = []\n",
    "        \n",
    "        for i in cipher:\n",
    "            pt.append(chr((i**self.D)%self.N))\n",
    "            \n",
    "        return ''.join(pt)    "
   ]
  },
  {
   "cell_type": "code",
   "execution_count": 10,
   "id": "82fc6c1a",
   "metadata": {},
   "outputs": [
    {
     "name": "stdout",
     "output_type": "stream",
     "text": [
      "Generated Primes are p = 107, q = 877\n",
      "E  5\n",
      "D  74285\n",
      "Enter text to encrypt : hello\n",
      "Encrypted text : [21157, 38662, 63987, 63987, 6160]\n",
      "Descrypted Message : hello\n"
     ]
    }
   ],
   "source": [
    "p,q = generate_primes()\n",
    "\n",
    "print('Generated Primes are p = {}, q = {}'.format(p,q))\n",
    "\n",
    "rsa = RSA(p, q)\n",
    "\n",
    "text = input('Enter text to encrypt : ')\n",
    "\n",
    "ct = rsa.encrypt(text)\n",
    "    \n",
    "print('Encrypted text : {}'.format(ct))\n",
    "\n",
    "decrypted_text = rsa.decrypt(ct)\n",
    "\n",
    "print('Descrypted Message : {}'.format(decrypted_text))\n"
   ]
  },
  {
   "cell_type": "code",
   "execution_count": null,
   "id": "2b362dca",
   "metadata": {},
   "outputs": [],
   "source": []
  }
 ],
 "metadata": {
  "kernelspec": {
   "display_name": "Python 3 (ipykernel)",
   "language": "python",
   "name": "python3"
  },
  "language_info": {
   "codemirror_mode": {
    "name": "ipython",
    "version": 3
   },
   "file_extension": ".py",
   "mimetype": "text/x-python",
   "name": "python",
   "nbconvert_exporter": "python",
   "pygments_lexer": "ipython3",
   "version": "3.9.7"
  }
 },
 "nbformat": 4,
 "nbformat_minor": 5
}
