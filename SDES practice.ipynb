{
 "cells": [
  {
   "cell_type": "code",
   "execution_count": 25,
   "id": "c7baa69e",
   "metadata": {},
   "outputs": [],
   "source": [
    "p10 = (3, 5, 2, 7, 4, 10, 1, 9, 8, 6)\n",
    "p8 = (6, 3, 7, 4, 8, 5, 10, 9)"
   ]
  },
  {
   "cell_type": "code",
   "execution_count": 26,
   "id": "2b36dd23",
   "metadata": {},
   "outputs": [],
   "source": [
    "def permute_by_seq(s,p):\n",
    "    res = \"\"\n",
    "    for i in p:\n",
    "        res += s[i-1]\n",
    "    return res"
   ]
  },
  {
   "cell_type": "code",
   "execution_count": 27,
   "id": "c3f1d3a6",
   "metadata": {},
   "outputs": [],
   "source": [
    "#12345\n",
    "#2345 1\n",
    "def left_shift(s,n):\n",
    "    res = s[n:] + s[:n]\n",
    "    return res"
   ]
  },
  {
   "cell_type": "code",
   "execution_count": 28,
   "id": "789944ce",
   "metadata": {},
   "outputs": [],
   "source": [
    "def key_generation(key):\n",
    "    key_after_p10 = permute_by_seq(key,p10)\n",
    "    \n",
    "    key_left = key_after_p10[0:5]\n",
    "    key_right = key_after_p10[5:10]\n",
    "    \n",
    "    key_left = left_shift(key_left,1)\n",
    "    key_right = left_shift(key_right,1)\n",
    "    \n",
    "    #key for round 1\n",
    "    k1 = permute_by_seq(key_left + key_right,p8)\n",
    "    \n",
    "    key_left = left_shift(key_left,2)\n",
    "    key_right = left_shift(key_right,2)\n",
    "    \n",
    "    #key for round 2\n",
    "    k2 = permute_by_seq(key_left + key_right,p8)\n",
    "    \n",
    "    return k1,k2"
   ]
  },
  {
   "cell_type": "code",
   "execution_count": 29,
   "id": "0eebad38",
   "metadata": {},
   "outputs": [
    {
     "name": "stdout",
     "output_type": "stream",
     "text": [
      "key1 :11101001  key2: 10100111\n"
     ]
    }
   ],
   "source": [
    "k1, k2 = key_generation(\"1100011110\")\n",
    "print(\"key1 :\" + k1,\" key2: \" + k2)"
   ]
  },
  {
   "cell_type": "code",
   "execution_count": 30,
   "id": "8d640b93",
   "metadata": {},
   "outputs": [],
   "source": [
    "initial_p = (2, 6, 3, 1, 4, 8, 5, 7)\n",
    "inv_initial_p = (4, 1, 3, 5, 7, 2, 8, 6)\n",
    "\n",
    "exp_p = (4, 1, 2, 3, 2, 3, 4, 1)\n",
    "p4 = (2, 4, 3, 1)\n",
    "\n",
    "sb_0 = [\n",
    "            [\"01\", \"00\", \"11\", \"10\"],\n",
    "            [\"11\", \"10\", \"01\", \"00\"],\n",
    "            [\"00\", \"10\", \"01\", \"11\"],\n",
    "            [\"11\", \"01\", \"11\", \"10\"]\n",
    "         ]\n",
    "\n",
    "sb_1 = [\n",
    "            [\"00\", \"01\", \"10\", \"11\"],\n",
    "            [\"10\", \"00\", \"01\", \"11\"],\n",
    "            [\"11\", \"00\", \"01\", \"00\"],\n",
    "            [\"10\", \"01\", \"00\", \"11\"]\n",
    "         ]"
   ]
  },
  {
   "cell_type": "code",
   "execution_count": 33,
   "id": "41ed21fe",
   "metadata": {},
   "outputs": [],
   "source": [
    "def calculate_xor(s1,s2):\n",
    "    res = \"\"\n",
    "    for i in range(0,len(s1)):\n",
    "        if s1[i] == s2[i]:\n",
    "            res += \"0\"\n",
    "        else:\n",
    "            res += \"1\"\n",
    "    return res"
   ]
  },
  {
   "cell_type": "code",
   "execution_count": 34,
   "id": "65dbc097",
   "metadata": {},
   "outputs": [],
   "source": [
    "#0123\n",
    "# row -> 03\n",
    "# col -> 12\n",
    "def look_sbox(s,sb):\n",
    "    row = int(s[0])*2 + int(s[3])\n",
    "    col = int(s[1])*2 + int(s[2])\n",
    "    return sb[row][col]"
   ]
  },
  {
   "cell_type": "code",
   "execution_count": 35,
   "id": "9e11c165",
   "metadata": {},
   "outputs": [],
   "source": [
    "def compute(plain_text,k1,k2):\n",
    "    pt = permute_by_seq(plain_text,initial_p)\n",
    "    \n",
    "    #round 1\n",
    "    lt = pt[0:4]\n",
    "    rt = pt[4:8]\n",
    "    \n",
    "    ert = permute_by_seq(rt,exp_p)\n",
    "    xor_rt = calculate_xor(ert,k1)\n",
    "    \n",
    "    x_lt = xor_rt[0:4]\n",
    "    x_rt = xor_rt[4:8]\n",
    "    \n",
    "    sb_t = look_sbox(x_lt,sb_0) + look_sbox(x_rt,sb_1)\n",
    "    \n",
    "    r1 = permute_by_seq(sb_t,p4)\n",
    "    r1 = calculate_xor(lt,r1)\n",
    "    \n",
    "    #round 2\n",
    "    lt = rt\n",
    "    rt = r1\n",
    "    \n",
    "    ert = permute_by_seq(rt,exp_p)\n",
    "    xor_rt = calculate_xor(ert,k2)\n",
    "    \n",
    "    x_lt = xor_rt[0:4]\n",
    "    x_rt = xor_rt[4:8]\n",
    "    \n",
    "    sb_t = look_sbox(x_lt,sb_0) + look_sbox(x_rt,sb_1)\n",
    "    \n",
    "    r2 = permute_by_seq(sb_t,p4)\n",
    "    r2 = calculate_xor(lt,r2)\n",
    "    \n",
    "    \n",
    "    #final contatenanted text\n",
    "    ft = r2 + rt\n",
    "    \n",
    "    #cipher\n",
    "    ct = permute_by_seq(ft,inv_initial_p)\n",
    "    \n",
    "    return ct"
   ]
  },
  {
   "cell_type": "code",
   "execution_count": 37,
   "id": "2b0af666",
   "metadata": {},
   "outputs": [
    {
     "name": "stdout",
     "output_type": "stream",
     "text": [
      "Cipher10001010\n"
     ]
    }
   ],
   "source": [
    "cipher = compute(\"00101000\",k1,k2)\n",
    "print(\"Cipher \" + cipher)"
   ]
  },
  {
   "cell_type": "code",
   "execution_count": 39,
   "id": "fa538c96",
   "metadata": {},
   "outputs": [
    {
     "name": "stdout",
     "output_type": "stream",
     "text": [
      "Plain 00101000\n"
     ]
    }
   ],
   "source": [
    "plain = compute(cipher,k2,k1)\n",
    "print(\"Plain \" + plain)"
   ]
  },
  {
   "cell_type": "code",
   "execution_count": null,
   "id": "5a8c0ea0",
   "metadata": {},
   "outputs": [],
   "source": []
  }
 ],
 "metadata": {
  "kernelspec": {
   "display_name": "Python 3 (ipykernel)",
   "language": "python",
   "name": "python3"
  },
  "language_info": {
   "codemirror_mode": {
    "name": "ipython",
    "version": 3
   },
   "file_extension": ".py",
   "mimetype": "text/x-python",
   "name": "python",
   "nbconvert_exporter": "python",
   "pygments_lexer": "ipython3",
   "version": "3.9.7"
  }
 },
 "nbformat": 4,
 "nbformat_minor": 5
}
